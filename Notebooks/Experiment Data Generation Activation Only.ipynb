{
 "cells": [
  {
   "cell_type": "code",
   "execution_count": 7,
   "metadata": {},
   "outputs": [],
   "source": [
    "import scipy\n",
    "import random\n",
    "\n",
    "import pandas as pd\n",
    "from matplotlib import pyplot\n",
    "from statsmodels.graphics.tsaplots import plot_acf\n",
    "\n",
    "import itertools\n",
    "import random\n",
    "import numpy as np\n",
    "import random\n",
    "from datetime import datetime\n",
    "\n",
    "import itertools \n",
    "import numpy as np\n",
    "from itertools import product\n",
    "\n",
    "case_type = 1\n",
    "num_input_nodes = 3 \n",
    "num_output_nodes = 2\n",
    "num_patterns = 3\n",
    "sequence_length = 2\n",
    "sparsity_length = 1\n",
    "sparsity_erratic = 0    \n",
    "random_seed = datetime.now().timestamp()\n",
    "binary_input = 1\n",
    "\n",
    "num_hidden_layers = 1\n",
    "network_type = \"lstm\"\n",
    "training_alg = \"adam\"\n",
    "activation_function = \"tanh\"\n",
    "architecture = [num_input_nodes, 20, 9, 5, num_output_nodes]\n",
    "batch_size = 10"
   ]
  },
  {
   "cell_type": "markdown",
   "metadata": {},
   "source": [
    "# Generate binary input sequences"
   ]
  },
  {
   "cell_type": "code",
   "execution_count": 8,
   "metadata": {},
   "outputs": [
    {
     "data": {
      "text/plain": [
       "[[0, 0, 0],\n",
       " [0, 0, 1],\n",
       " [0, 1, 0],\n",
       " [0, 1, 1],\n",
       " [1, 0, 0],\n",
       " [1, 0, 1],\n",
       " [1, 1, 0],\n",
       " [1, 1, 1]]"
      ]
     },
     "execution_count": 8,
     "metadata": {},
     "output_type": "execute_result"
    }
   ],
   "source": [
    "def generate_bit_patterns(bit_length=3):\n",
    "    unique_input_patterns = []\n",
    "\n",
    "    for bits in product([0, 1], repeat=bit_length):\n",
    "        single_input = [bit for bit in bits]\n",
    "        unique_input_patterns.append(single_input)\n",
    "    return unique_input_patterns\n",
    "generate_bit_patterns(bit_length=num_input_nodes)"
   ]
  },
  {
   "cell_type": "markdown",
   "metadata": {},
   "source": [
    "# Make patterns of sequence length "
   ]
  },
  {
   "cell_type": "code",
   "execution_count": 9,
   "metadata": {},
   "outputs": [
    {
     "name": "stdout",
     "output_type": "stream",
     "text": [
      "3 53 56\n"
     ]
    },
    {
     "data": {
      "text/plain": [
       "array([[[0, 0, 0],\n",
       "        [0, 1, 1]],\n",
       "\n",
       "       [[0, 1, 1],\n",
       "        [1, 1, 1]],\n",
       "\n",
       "       [[1, 0, 0],\n",
       "        [0, 1, 0]]])"
      ]
     },
     "execution_count": 9,
     "metadata": {},
     "output_type": "execute_result"
    }
   ],
   "source": [
    "def generate_set(input_length=3, sequence_length =3, num_patterns=3):\n",
    "    possible_inputs = generate_bit_patterns(input_length)\n",
    "    all_available_patterns = list(itertools.permutations(possible_inputs, sequence_length))\n",
    "    index_of_set = random.sample(range(0, len(all_available_patterns)), num_patterns)\n",
    "    patterns_to_identify = [all_available_patterns[i] for i in index_of_set]\n",
    "    random_patterns = [x for x in all_available_patterns if x not in patterns_to_identify]\n",
    "    return np.array(patterns_to_identify), np.array(random_patterns), np.array(all_available_patterns)\n",
    "\n",
    "patterns_to_identify, random_patterns, all_available_patterns = generate_set(num_input_nodes, \n",
    "                                                                             sequence_length, \n",
    "                                                                             num_patterns)\n",
    "# corresponding_output, random_output, all_available_output = generate_set(num_ouput_nodes, 1, num_patterns)\n",
    "\n",
    "print(len(patterns_to_identify), len(random_patterns), len(all_available_patterns))\n",
    "# print(len(corresponding_output), len(random_output), len(all_available_output))\n",
    "patterns_to_identify"
   ]
  },
  {
   "cell_type": "code",
   "execution_count": 62,
   "metadata": {},
   "outputs": [
    {
     "name": "stdout",
     "output_type": "stream",
     "text": [
      "[1 0 0] [0 0]\n",
      "[0 1 0] [1 1]\n",
      "[0 0 0] [0 0]\n",
      "[1 0 0] [0 0]\n",
      "[0 1 1] [0 0]\n",
      "[1 1 1] [1 1]\n",
      "[1 0 0] [0 0]\n",
      "[1 1 0] [0 0]\n",
      "[1 0 0] [0 0]\n",
      "[0 1 0] [1 1]\n",
      "[0 0 0] [0 0]\n",
      "[0 0 1] [0 0]\n",
      "[0 0 0] [0 0]\n",
      "[0 1 1] [1 1]\n",
      "[1 0 0] [0 0]\n",
      "[1 0 1] [0 0]\n",
      "[0 1 1] [0 0]\n",
      "[1 1 1] [1 1]\n",
      "[1 1 1] [0 0]\n",
      "[1 1 0] [0 0]\n",
      "[0 1 1] [0 0]\n",
      "[1 1 1] [1 1]\n",
      "[1 1 0] [0 0]\n",
      "[0 1 0] [0 0]\n",
      "[0 0 0] [0 0]\n",
      "[0 1 1] [1 1]\n",
      "[0 0 0] [0 0]\n",
      "[1 0 0] [0 0]\n",
      "[1 0 0] [0 0]\n",
      "[0 1 0] [1 1]\n",
      "[1 0 0] [0 0]\n",
      "[1 1 1] [0 0]\n",
      "[0 1 1] [0 0]\n",
      "[1 1 1] [1 1]\n",
      "[0 0 0] [0 0]\n",
      "[1 1 0] [0 0]\n",
      "[0 0 0] [0 0]\n",
      "[0 1 1] [1 1]\n",
      "[1 1 1] [0 0]\n",
      "[0 0 1] [0 0]\n",
      "[0 1 1] [0 0]\n",
      "[1 1 1] [1 1]\n",
      "[0 0 0] [0 0]\n",
      "[1 0 0] [0 0]\n",
      "[0 1 1] [0 0]\n",
      "[1 1 1] [1 1]\n",
      "[0 0 1] [0 0]\n",
      "[0 1 1] [0 0]\n",
      "[1 0 0] [0 0]\n",
      "[0 1 0] [1 1]\n",
      "[0 1 1] [0 0]\n",
      "[0 1 0] [0 0]\n",
      "[0 1 1] [0 0]\n",
      "[1 1 1] [1 1]\n",
      "[1 0 0] [0 0]\n",
      "[0 0 0] [0 0]\n",
      "[0 1 1] [0 0]\n",
      "[1 1 1] [1 1]\n",
      "[1 1 1] [0 0]\n",
      "[1 1 0] [0 0]\n",
      "[1 0 0] [0 0]\n",
      "[0 1 0] [1 1]\n",
      "[0 1 0] [0 0]\n",
      "[1 0 0] [0 0]\n",
      "[0 1 1] [0 0]\n",
      "[1 1 1] [1 1]\n",
      "[0 0 1] [0 0]\n",
      "[1 1 0] [0 0]\n",
      "[1 0 0] [0 0]\n",
      "[0 1 0] [1 1]\n",
      "[0 1 0] [0 0]\n",
      "[1 1 1] [0 0]\n",
      "[1 0 0] [0 0]\n",
      "[0 1 0] [1 1]\n",
      "[0 1 1] [0 0]\n",
      "[1 0 0] [0 0]\n",
      "[0 0 0] [0 0]\n",
      "[0 1 1] [1 1]\n",
      "[1 0 0] [0 0]\n",
      "[1 0 1] [0 0]\n",
      "[0 0 0] [0 0]\n",
      "[0 1 1] [1 1]\n",
      "[1 0 0] [0 0]\n",
      "[0 1 1] [0 0]\n",
      "[1 0 0] [0 0]\n",
      "[0 1 0] [1 1]\n",
      "[0 1 1] [0 0]\n",
      "[1 0 1] [0 0]\n",
      "[0 0 0] [0 0]\n",
      "[0 1 1] [1 1]\n",
      "[1 0 1] [0 0]\n",
      "[1 1 0] [0 0]\n",
      "[0 0 0] [0 0]\n",
      "[0 1 1] [1 1]\n",
      "[0 1 0] [0 0]\n",
      "[0 1 1] [0 0]\n",
      "[0 0 0] [0 0]\n",
      "[0 1 1] [1 1]\n",
      "[0 0 1] [0 0]\n",
      "[1 1 1] [0 0]\n",
      "[0 1 1] [0 0]\n",
      "[1 1 1] [1 1]\n",
      "[1 0 1] [0 0]\n",
      "[0 1 0] [0 0]\n",
      "[0 1 1] [0 0]\n",
      "[1 1 1] [1 1]\n",
      "[1 1 1] [0 0]\n",
      "[0 1 1] [0 0]\n",
      "[0 0 0] [0 0]\n",
      "[0 1 1] [1 1]\n",
      "[0 1 1] [0 0]\n",
      "[0 0 0] [0 0]\n",
      "[1 0 0] [0 0]\n",
      "[0 1 0] [1 1]\n",
      "[1 0 1] [0 0]\n",
      "[0 1 1] [0 0]\n",
      "[0 1 1] [0 0]\n",
      "[1 1 1] [1 1]\n",
      "[1 0 0] [0 0]\n",
      "[0 0 1] [0 0]\n",
      "[0 1 1] [0 0]\n",
      "[1 1 1] [1 1]\n",
      "[0 0 0] [0 0]\n",
      "[1 1 0] [0 0]\n",
      "[1 0 0] [0 0]\n",
      "[0 1 0] [1 1]\n",
      "[1 0 1] [0 0]\n",
      "[1 1 0] [0 0]\n",
      "[0 1 1] [0 0]\n",
      "[1 1 1] [1 1]\n",
      "[1 0 1] [0 0]\n",
      "[0 0 0] [0 0]\n",
      "[0 0 0] [0 0]\n",
      "[0 1 1] [1 1]\n",
      "[0 1 0] [0 0]\n",
      "[0 0 1] [0 0]\n",
      "[0 1 1] [0 0]\n",
      "[1 1 1] [1 1]\n",
      "[0 1 0] [0 0]\n",
      "[0 1 1] [0 0]\n",
      "[0 0 0] [0 0]\n",
      "[0 1 1] [1 1]\n",
      "[0 0 0] [0 0]\n",
      "[1 0 0] [0 0]\n",
      "[0 1 1] [0 0]\n",
      "[1 1 1] [1 1]\n",
      "[0 1 0] [0 0]\n",
      "[1 1 1] [0 0]\n",
      "[1 0 0] [0 0]\n",
      "[0 1 0] [1 1]\n",
      "[1 1 0] [0 0]\n",
      "[0 1 1] [0 0]\n",
      "[0 0 0] [0 0]\n",
      "[0 1 1] [1 1]\n",
      "[1 0 1] [0 0]\n",
      "[0 1 0] [0 0]\n",
      "[0 0 0] [0 0]\n",
      "[0 1 1] [1 1]\n",
      "[0 0 1] [0 0]\n",
      "[1 0 0] [0 0]\n",
      "[0 1 1] [0 0]\n",
      "[1 1 1] [1 1]\n",
      "[1 0 1] [0 0]\n",
      "[1 0 0] [0 0]\n",
      "[0 1 1] [0 0]\n",
      "[1 1 1] [1 1]\n",
      "[1 0 1] [0 0]\n",
      "[1 1 1] [0 0]\n",
      "[0 0 0] [0 0]\n",
      "[0 1 1] [1 1]\n",
      "[0 0 1] [0 0]\n",
      "[0 1 0] [0 0]\n",
      "[0 0 0] [0 0]\n",
      "[0 1 1] [1 1]\n",
      "[1 0 0] [0 0]\n",
      "[0 1 1] [0 0]\n",
      "[0 0 0] [0 0]\n",
      "[0 1 1] [1 1]\n",
      "[1 1 1] [0 0]\n",
      "[1 0 1] [0 0]\n",
      "[0 0 0] [0 0]\n",
      "[0 1 1] [1 1]\n",
      "[0 1 1] [0 0]\n",
      "[0 1 0] [0 0]\n",
      "[0 1 1] [0 0]\n",
      "[1 1 1] [1 1]\n",
      "[1 0 0] [0 0]\n",
      "[0 0 0] [0 0]\n",
      "[0 1 1] [0 0]\n",
      "[1 1 1] [1 1]\n",
      "[0 1 0] [0 0]\n",
      "[0 1 1] [0 0]\n",
      "[1 0 0] [0 0]\n",
      "[0 1 0] [1 1]\n",
      "[0 1 0] [0 0]\n",
      "[1 0 1] [0 0]\n",
      "[0 0 0] [0 0]\n",
      "[0 1 1] [1 1]\n",
      "[1 1 0] [0 0]\n",
      "[0 0 0] [0 0]\n",
      "200 200\n"
     ]
    }
   ],
   "source": [
    "train_input = []\n",
    "train_output = []\n",
    "patterns_counter = 0\n",
    "random.seed(10)\n",
    "batch_counter = 0 \n",
    "sparsity_length = 1\n",
    "for i in range(100):\n",
    "    if i % (sparsity_length+1) == 0:\n",
    "        index = random.randint(0, num_patterns-1)\n",
    "        train_input.append(patterns_to_identify[index])\n",
    "        for o in range(sequence_length-1):\n",
    "            train_output.append(np.array([0]*num_output_nodes))\n",
    "        train_output.append(np.array([1]*num_output_nodes))\n",
    "    else:\n",
    "        \n",
    "        index = random.randint(0, len(random_patterns)-1)\n",
    "        train_input.append(random_patterns[index])\n",
    "        for o in range(sequence_length):\n",
    "            train_output.append(np.array([0]*num_output_nodes))\n",
    "        \n",
    "train_input = np.array(train_input)\n",
    "train_input = train_input.reshape(train_input.shape[1]*train_input.shape[0], train_input.shape[2])\n",
    "\n",
    "for i in range(len(train_input)):\n",
    "    print(train_input[i], train_output[i])\n",
    "    \n",
    "print(len(train_input), len(train_output))\n"
   ]
  },
  {
   "cell_type": "code",
   "execution_count": 67,
   "metadata": {},
   "outputs": [
    {
     "name": "stdout",
     "output_type": "stream",
     "text": [
      "(10, 20, 3) (10, 20, 2)\n"
     ]
    }
   ],
   "source": [
    "train_input_batched = []\n",
    "train_output_batched = []\n",
    "\n",
    "t = []\n",
    "o = []\n",
    "\n",
    "batch_size_ = batch_size * sequence_length\n",
    "for i in range(len(train_input)):\n",
    "    if i % batch_size_ == 0:\n",
    "        t = []\n",
    "        o = []\n",
    "        train_input_batched.append(t)\n",
    "        train_output_batched.append(o)    \n",
    "    t.append(train_input[i])\n",
    "    o.append(train_output[i])\n",
    "train_input_batched = np.array(train_input_batched)\n",
    "train_output_batched = np.array(train_output_batched)\n",
    "print(train_input_batched.shape, train_output_batched.shape)"
   ]
  },
  {
   "cell_type": "code",
   "execution_count": 65,
   "metadata": {},
   "outputs": [
    {
     "name": "stdout",
     "output_type": "stream",
     "text": [
      "20 10 2\n"
     ]
    },
    {
     "data": {
      "text/plain": [
       "array([[1, 0, 0],\n",
       "       [0, 1, 0],\n",
       "       [0, 0, 0],\n",
       "       [1, 0, 0],\n",
       "       [0, 1, 1],\n",
       "       [1, 1, 1],\n",
       "       [1, 0, 0],\n",
       "       [1, 1, 0],\n",
       "       [1, 0, 0],\n",
       "       [0, 1, 0],\n",
       "       [0, 0, 0],\n",
       "       [0, 0, 1],\n",
       "       [0, 0, 0],\n",
       "       [0, 1, 1],\n",
       "       [1, 0, 0],\n",
       "       [1, 0, 1],\n",
       "       [0, 1, 1],\n",
       "       [1, 1, 1],\n",
       "       [1, 1, 1],\n",
       "       [1, 1, 0]])"
      ]
     },
     "execution_count": 65,
     "metadata": {},
     "output_type": "execute_result"
    }
   ],
   "source": [
    "# rows, timesteps, columns\n",
    "print(batch_size_, batch_size, sequence_length)\n",
    "train_input_batched[0]"
   ]
  },
  {
   "cell_type": "code",
   "execution_count": null,
   "metadata": {},
   "outputs": [],
   "source": [
    "from pandas import DataFrame\n",
    "from pandas import concat\n",
    "from keras.models import Sequential\n",
    "from keras.layers import Dense\n",
    "from keras.layers import LSTM\n",
    "\n",
    "n_epoch = 10\n",
    "\n",
    "\n",
    "model = Sequential()\n",
    "model.add(LSTM(num_input_nodes, batch_input_shape=(batch_size, \n",
    "                                                   train_input_batched.shape[1], \n",
    "                                                   train_input_batched.shape[2]), stateful=True))\n",
    "model.add(Dense(num_output_nodes))\n",
    "model.compile(loss='mean_squared_error', optimizer='adam')\n",
    "\n",
    "# fit network\n",
    "for i in range(n_epoch):\n",
    "    model.fit(train_input_batched, train_output_batched, epochs=1, batch_size=batch_size, verbose=1, shuffle=False)\n",
    "    model.reset_states()\n",
    "\n"
   ]
  },
  {
   "cell_type": "code",
   "execution_count": 81,
   "metadata": {},
   "outputs": [
    {
     "ename": "IndexError",
     "evalue": "tuple index out of range",
     "output_type": "error",
     "traceback": [
      "\u001b[0;31m---------------------------------------------------------------------------\u001b[0m",
      "\u001b[0;31mIndexError\u001b[0m                                Traceback (most recent call last)",
      "\u001b[0;32m<ipython-input-81-7fd14b268c74>\u001b[0m in \u001b[0;36m<module>\u001b[0;34m()\u001b[0m\n\u001b[1;32m     22\u001b[0m \u001b[0;31m# design network\u001b[0m\u001b[0;34m\u001b[0m\u001b[0;34m\u001b[0m\u001b[0m\n\u001b[1;32m     23\u001b[0m \u001b[0mmodel\u001b[0m \u001b[0;34m=\u001b[0m \u001b[0mSequential\u001b[0m\u001b[0;34m(\u001b[0m\u001b[0;34m)\u001b[0m\u001b[0;34m\u001b[0m\u001b[0m\n\u001b[0;32m---> 24\u001b[0;31m \u001b[0mmodel\u001b[0m\u001b[0;34m.\u001b[0m\u001b[0madd\u001b[0m\u001b[0;34m(\u001b[0m\u001b[0mLSTM\u001b[0m\u001b[0;34m(\u001b[0m\u001b[0mn_neurons\u001b[0m\u001b[0;34m,\u001b[0m \u001b[0mbatch_input_shape\u001b[0m\u001b[0;34m=\u001b[0m\u001b[0;34m(\u001b[0m\u001b[0;36m0\u001b[0m\u001b[0;34m,\u001b[0m \u001b[0mX\u001b[0m\u001b[0;34m.\u001b[0m\u001b[0mshape\u001b[0m\u001b[0;34m[\u001b[0m\u001b[0;36m1\u001b[0m\u001b[0;34m]\u001b[0m\u001b[0;34m,\u001b[0m \u001b[0mX\u001b[0m\u001b[0;34m.\u001b[0m\u001b[0mshape\u001b[0m\u001b[0;34m[\u001b[0m\u001b[0;36m2\u001b[0m\u001b[0;34m]\u001b[0m\u001b[0;34m)\u001b[0m\u001b[0;34m,\u001b[0m \u001b[0mstateful\u001b[0m\u001b[0;34m=\u001b[0m\u001b[0;32mTrue\u001b[0m\u001b[0;34m)\u001b[0m\u001b[0;34m)\u001b[0m\u001b[0;34m\u001b[0m\u001b[0m\n\u001b[0m\u001b[1;32m     25\u001b[0m \u001b[0mmodel\u001b[0m\u001b[0;34m.\u001b[0m\u001b[0madd\u001b[0m\u001b[0;34m(\u001b[0m\u001b[0mDense\u001b[0m\u001b[0;34m(\u001b[0m\u001b[0;36m2\u001b[0m\u001b[0;34m)\u001b[0m\u001b[0;34m)\u001b[0m\u001b[0;34m\u001b[0m\u001b[0m\n\u001b[1;32m     26\u001b[0m \u001b[0mmodel\u001b[0m\u001b[0;34m.\u001b[0m\u001b[0mcompile\u001b[0m\u001b[0;34m(\u001b[0m\u001b[0mloss\u001b[0m\u001b[0;34m=\u001b[0m\u001b[0;34m'mean_squared_error'\u001b[0m\u001b[0;34m,\u001b[0m \u001b[0moptimizer\u001b[0m\u001b[0;34m=\u001b[0m\u001b[0;34m'adam'\u001b[0m\u001b[0;34m)\u001b[0m\u001b[0;34m\u001b[0m\u001b[0m\n",
      "\u001b[0;31mIndexError\u001b[0m: tuple index out of range"
     ]
    }
   ],
   "source": [
    "from pandas import DataFrame\n",
    "from pandas import concat\n",
    "from keras.models import Sequential\n",
    "from keras.layers import Dense\n",
    "from keras.layers import LSTM\n",
    "# create sequence\n",
    "length = 10\n",
    "sequence = [i/float(length) for i in range(length)]\n",
    "# create X/y pairs\n",
    "df = DataFrame(sequence)\n",
    "df = concat([df, df.shift(1)], axis=1)\n",
    "df.dropna(inplace=True)\n",
    "# convert to LSTM friendly format\n",
    "values = df.values\n",
    "X, y = values[:, 0], values[:, 1]\n",
    "t = np.array([[i,i] for i in y])\n",
    "X = X.reshape(len(X), 1, 1)\n",
    "# configure network\n",
    "n_batch = 1\n",
    "n_epoch = 10\n",
    "n_neurons = 10\n",
    "# design network\n",
    "model = Sequential()\n",
    "model.add(LSTM(n_neurons, batch_input_shape=(n_batch, X.shape[1], X.shape[2]), stateful=True))\n",
    "model.add(Dense(2))\n",
    "model.compile(loss='mean_squared_error', optimizer='adam')\n",
    "# fit network\n",
    "for i in range(n_epoch):\n",
    "    model.fit(X, t, epochs=1, batch_size=n_batch, verbose=1, shuffle=False)\n",
    "    model.reset_states()\n",
    "# online forecast\n",
    "for i in range(len(X)):\n",
    "    testX, testy = X[i], t[i]\n",
    "    testX = testX.reshape(1, 1, 1)\n",
    "    yhat = model.predict(testX, batch_size=1)\n",
    "    print('>Expected=%.1f, Predicted=%.1f' % (testy, yhat))\n"
   ]
  },
  {
   "cell_type": "code",
   "execution_count": 74,
   "metadata": {},
   "outputs": [
    {
     "name": "stdout",
     "output_type": "stream",
     "text": [
      "(9, 1, 1) (9,)\n"
     ]
    }
   ],
   "source": [
    "print(X.shape, y.shape)"
   ]
  },
  {
   "cell_type": "code",
   "execution_count": 76,
   "metadata": {},
   "outputs": [
    {
     "data": {
      "text/plain": [
       "(9, 2)"
      ]
     },
     "execution_count": 76,
     "metadata": {},
     "output_type": "execute_result"
    }
   ],
   "source": []
  },
  {
   "cell_type": "code",
   "execution_count": null,
   "metadata": {},
   "outputs": [],
   "source": []
  },
  {
   "cell_type": "code",
   "execution_count": null,
   "metadata": {},
   "outputs": [],
   "source": []
  },
  {
   "cell_type": "code",
   "execution_count": null,
   "metadata": {},
   "outputs": [],
   "source": []
  },
  {
   "cell_type": "code",
   "execution_count": null,
   "metadata": {},
   "outputs": [],
   "source": []
  },
  {
   "cell_type": "code",
   "execution_count": null,
   "metadata": {},
   "outputs": [],
   "source": []
  },
  {
   "cell_type": "code",
   "execution_count": null,
   "metadata": {},
   "outputs": [],
   "source": []
  },
  {
   "cell_type": "code",
   "execution_count": null,
   "metadata": {},
   "outputs": [],
   "source": []
  },
  {
   "cell_type": "code",
   "execution_count": null,
   "metadata": {},
   "outputs": [],
   "source": []
  }
 ],
 "metadata": {
  "kernelspec": {
   "display_name": "Python 3",
   "language": "python",
   "name": "python3"
  },
  "language_info": {
   "codemirror_mode": {
    "name": "ipython",
    "version": 3
   },
   "file_extension": ".py",
   "mimetype": "text/x-python",
   "name": "python",
   "nbconvert_exporter": "python",
   "pygments_lexer": "ipython3",
   "version": "3.5.2"
  }
 },
 "nbformat": 4,
 "nbformat_minor": 2
}
