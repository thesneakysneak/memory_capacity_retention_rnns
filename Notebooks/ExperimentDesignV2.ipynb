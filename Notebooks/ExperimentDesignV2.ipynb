{
 "cells": [
  {
   "cell_type": "code",
   "execution_count": 2,
   "metadata": {},
   "outputs": [],
   "source": [
    "import numpy as np\n",
    "from keras.callbacks import Callback\n",
    "from keras.callbacks import EarlyStopping, ModelCheckpoint\n",
    "import logging \n",
    "\n",
    "import keras\n",
    "from sklearn.metrics import roc_auc_score\n",
    "from keras.models import Sequential\n",
    "from keras.layers import Dense\n",
    "from keras.layers import LSTM\n",
    "from keras.layers import GRU\n",
    "from keras.layers import SimpleRNN\n",
    "\n",
    "\n",
    "from IPython.display import SVG\n",
    "from keras.utils.vis_utils import model_to_dot\n",
    "\n",
    "from keras.models import Sequential\n",
    "from keras.layers import LSTM, Dense\n",
    "import numpy as np\n",
    "\n",
    "data_dim = 3\n",
    "timesteps = 2\n",
    "num_classes = 2\n",
    "batch_size = 100\n"
   ]
  },
  {
   "cell_type": "markdown",
   "metadata": {},
   "source": [
    "# Setup model"
   ]
  },
  {
   "cell_type": "code",
   "execution_count": null,
   "metadata": {},
   "outputs": [],
   "source": [
    "class ResetState(keras.callbacks.Callback):\n",
    "    def on_train_begin(self, logs={}):\n",
    "        pass\n",
    " \n",
    "    def on_train_end(self, logs={}):\n",
    "        pass\n",
    " \n",
    "    def on_epoch_begin(self, epoch, logs={}):\n",
    "        pass\n",
    "        \n",
    "    def on_epoch_end(self, epoch, logs={}):\n",
    "        pass\n",
    "    \n",
    "    def on_batch_begin(self, batch, logs={}):\n",
    "        pass\n",
    " \n",
    "    def on_batch_end(self, batch, logs={}):\n",
    "        self.model.reset_states()\n",
    "# #         print(\"reset model state\", logs)\n",
    "#         acc = logs.get(\"acc\")\n",
    "#         if acc == 1.0:\n",
    "            \n",
    "        return\n",
    "    \n",
    "earlystop = EarlyStopping(monitor='loss', # loss\n",
    "                          patience=10,\n",
    "                          verbose=1,\n",
    "                          min_delta=0.05,\n",
    "                          mode='auto')\n",
    "reset_state = ResetState()\n",
    "\n",
    "def train_model(input_set, output_set, model, training_alg, batch_size):\n",
    "        model.compile(loss='categorical_crossentropy', optimizer=training_alg, metrics=['accuracy'])\n",
    "\n",
    "        callbacks = [\n",
    "            earlystop,\n",
    "            reset_state\n",
    "        ]\n",
    "\n",
    "        model.fit(input_set, output_set, epochs=10, batch_size=batch_size, verbose=1, shuffle=False, callbacks=callbacks)\n",
    "        return model\n",
    "    \n",
    "\n",
    "\n",
    "# Expected input batch shape: (batch_size, timesteps, data_dim)\n",
    "# Note that we have to provide the full batch_input_shape since the network is stateful.\n",
    "# the sample of index i in batch k is the follow-up for the sample i in batch k-1.\n",
    "example_model = Sequential()\n",
    "example_model.add(LSTM(32, return_sequences=True, stateful=True,\n",
    "               batch_input_shape=(batch_size, timesteps, data_dim)))\n",
    "example_model.add(LSTM(32, return_sequences=True, stateful=True))\n",
    "example_model.add(LSTM(32, stateful=True))\n",
    "example_model.add(Dense(num_classes, activation='softmax'))\n",
    "callbacks = [\n",
    "        earlystop,\n",
    "        reset_state\n",
    "    ]\n",
    "\n",
    "model.fit(input_set, output_set, epochs=10, \n",
    "          batch_size=batch_size, verbose=1, \n",
    "          shuffle=False, callbacks=callbacks)\n",
    "\n",
    "example_model.compile(loss='categorical_crossentropy',\n",
    "              optimizer='rmsprop',\n",
    "              metrics=['accuracy'])\n",
    "\n"
   ]
  },
  {
   "cell_type": "code",
   "execution_count": null,
   "metadata": {},
   "outputs": [],
   "source": [
    "\n",
    "model = train_model(train_input, train_out, model, training_alg=\"adam\", batch_size=999)"
   ]
  },
  {
   "cell_type": "markdown",
   "metadata": {},
   "source": [
    "# Experiment 1: Number of patterns that can be retained"
   ]
  },
  {
   "cell_type": "code",
   "execution_count": null,
   "metadata": {},
   "outputs": [],
   "source": [
    "# Generate dummy training data\n",
    "x_train = np.random.random((batch_size, timesteps, data_dim))\n",
    "y_train = np.random.random((batch_size, num_classes))\n",
    "\n",
    "# Generate dummy validation data\n",
    "x_val = np.random.random((batch_size , timesteps, data_dim))\n",
    "y_val = np.random.random((batch_size , num_classes))"
   ]
  }
 ],
 "metadata": {
  "kernelspec": {
   "display_name": "Python 3",
   "language": "python",
   "name": "python3"
  },
  "language_info": {
   "codemirror_mode": {
    "name": "ipython",
    "version": 3
   },
   "file_extension": ".py",
   "mimetype": "text/x-python",
   "name": "python",
   "nbconvert_exporter": "python",
   "pygments_lexer": "ipython3",
   "version": "3.5.2"
  }
 },
 "nbformat": 4,
 "nbformat_minor": 2
}
